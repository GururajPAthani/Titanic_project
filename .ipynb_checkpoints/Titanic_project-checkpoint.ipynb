{
 "cells": [
  {
   "cell_type": "markdown",
   "id": "4641bcb0-5c11-4515-9350-86c1d28b4325",
   "metadata": {},
   "source": [
    "# **Titanic Project**"
   ]
  },
  {
   "cell_type": "markdown",
   "id": "a679fe5d-85f8-430b-8f32-85daefe8ee3f",
   "metadata": {},
   "source": [
    "## *Goal*"
   ]
  },
  {
   "cell_type": "markdown",
   "id": "934f45e1-e2ad-4d43-a4e8-6a4311b542d4",
   "metadata": {},
   "source": [
    "The competition is simple: we want you to use the Titanic passenger data (name, age, price of ticket, etc) to try to predict who will survive and who will die."
   ]
  },
  {
   "cell_type": "markdown",
   "id": "5408555e-08be-4c15-b17e-de3d7f67f78a",
   "metadata": {
    "tags": []
   },
   "source": [
    "## **Initial Data Exploration**"
   ]
  },
  {
   "cell_type": "markdown",
   "id": "4276c264-fec6-43e0-bb80-77f0528b409b",
   "metadata": {},
   "source": [
    "### Import Libraries"
   ]
  },
  {
   "cell_type": "code",
   "execution_count": 1,
   "id": "b0128fe5-bea5-4e8a-82f3-97ab2ecb82fa",
   "metadata": {
    "tags": []
   },
   "outputs": [],
   "source": [
    "import numpy as np\n",
    "import pandas as pd\n",
    "import matplotlib.pyplot as plt\n",
    "import seaborn as sns"
   ]
  },
  {
   "cell_type": "markdown",
   "id": "bd19dd8a-cd40-43b5-a77d-908149f17f3a",
   "metadata": {},
   "source": [
    "### Load Data"
   ]
  },
  {
   "cell_type": "code",
   "execution_count": 2,
   "id": "56d382ef-4834-4a99-8024-41a4effba510",
   "metadata": {
    "tags": []
   },
   "outputs": [
    {
     "data": {
      "text/html": [
       "<div>\n",
       "<style scoped>\n",
       "    .dataframe tbody tr th:only-of-type {\n",
       "        vertical-align: middle;\n",
       "    }\n",
       "\n",
       "    .dataframe tbody tr th {\n",
       "        vertical-align: top;\n",
       "    }\n",
       "\n",
       "    .dataframe thead th {\n",
       "        text-align: right;\n",
       "    }\n",
       "</style>\n",
       "<table border=\"1\" class=\"dataframe\">\n",
       "  <thead>\n",
       "    <tr style=\"text-align: right;\">\n",
       "      <th></th>\n",
       "      <th>PassengerId</th>\n",
       "      <th>Survived</th>\n",
       "      <th>Pclass</th>\n",
       "      <th>Name</th>\n",
       "      <th>Sex</th>\n",
       "      <th>Age</th>\n",
       "      <th>SibSp</th>\n",
       "      <th>Parch</th>\n",
       "      <th>Ticket</th>\n",
       "      <th>Fare</th>\n",
       "      <th>Cabin</th>\n",
       "      <th>Embarked</th>\n",
       "    </tr>\n",
       "  </thead>\n",
       "  <tbody>\n",
       "    <tr>\n",
       "      <th>0</th>\n",
       "      <td>1</td>\n",
       "      <td>0</td>\n",
       "      <td>3</td>\n",
       "      <td>Braund, Mr. Owen Harris</td>\n",
       "      <td>male</td>\n",
       "      <td>22.0</td>\n",
       "      <td>1</td>\n",
       "      <td>0</td>\n",
       "      <td>A/5 21171</td>\n",
       "      <td>7.2500</td>\n",
       "      <td>NaN</td>\n",
       "      <td>S</td>\n",
       "    </tr>\n",
       "    <tr>\n",
       "      <th>1</th>\n",
       "      <td>2</td>\n",
       "      <td>1</td>\n",
       "      <td>1</td>\n",
       "      <td>Cumings, Mrs. John Bradley (Florence Briggs Th...</td>\n",
       "      <td>female</td>\n",
       "      <td>38.0</td>\n",
       "      <td>1</td>\n",
       "      <td>0</td>\n",
       "      <td>PC 17599</td>\n",
       "      <td>71.2833</td>\n",
       "      <td>C85</td>\n",
       "      <td>C</td>\n",
       "    </tr>\n",
       "    <tr>\n",
       "      <th>2</th>\n",
       "      <td>3</td>\n",
       "      <td>1</td>\n",
       "      <td>3</td>\n",
       "      <td>Heikkinen, Miss. Laina</td>\n",
       "      <td>female</td>\n",
       "      <td>26.0</td>\n",
       "      <td>0</td>\n",
       "      <td>0</td>\n",
       "      <td>STON/O2. 3101282</td>\n",
       "      <td>7.9250</td>\n",
       "      <td>NaN</td>\n",
       "      <td>S</td>\n",
       "    </tr>\n",
       "    <tr>\n",
       "      <th>3</th>\n",
       "      <td>4</td>\n",
       "      <td>1</td>\n",
       "      <td>1</td>\n",
       "      <td>Futrelle, Mrs. Jacques Heath (Lily May Peel)</td>\n",
       "      <td>female</td>\n",
       "      <td>35.0</td>\n",
       "      <td>1</td>\n",
       "      <td>0</td>\n",
       "      <td>113803</td>\n",
       "      <td>53.1000</td>\n",
       "      <td>C123</td>\n",
       "      <td>S</td>\n",
       "    </tr>\n",
       "    <tr>\n",
       "      <th>4</th>\n",
       "      <td>5</td>\n",
       "      <td>0</td>\n",
       "      <td>3</td>\n",
       "      <td>Allen, Mr. William Henry</td>\n",
       "      <td>male</td>\n",
       "      <td>35.0</td>\n",
       "      <td>0</td>\n",
       "      <td>0</td>\n",
       "      <td>373450</td>\n",
       "      <td>8.0500</td>\n",
       "      <td>NaN</td>\n",
       "      <td>S</td>\n",
       "    </tr>\n",
       "  </tbody>\n",
       "</table>\n",
       "</div>"
      ],
      "text/plain": [
       "   PassengerId  Survived  Pclass  \\\n",
       "0            1         0       3   \n",
       "1            2         1       1   \n",
       "2            3         1       3   \n",
       "3            4         1       1   \n",
       "4            5         0       3   \n",
       "\n",
       "                                                Name     Sex   Age  SibSp  \\\n",
       "0                            Braund, Mr. Owen Harris    male  22.0      1   \n",
       "1  Cumings, Mrs. John Bradley (Florence Briggs Th...  female  38.0      1   \n",
       "2                             Heikkinen, Miss. Laina  female  26.0      0   \n",
       "3       Futrelle, Mrs. Jacques Heath (Lily May Peel)  female  35.0      1   \n",
       "4                           Allen, Mr. William Henry    male  35.0      0   \n",
       "\n",
       "   Parch            Ticket     Fare Cabin Embarked  \n",
       "0      0         A/5 21171   7.2500   NaN        S  \n",
       "1      0          PC 17599  71.2833   C85        C  \n",
       "2      0  STON/O2. 3101282   7.9250   NaN        S  \n",
       "3      0            113803  53.1000  C123        S  \n",
       "4      0            373450   8.0500   NaN        S  "
      ]
     },
     "execution_count": 2,
     "metadata": {},
     "output_type": "execute_result"
    }
   ],
   "source": [
    "df = pd.read_csv('train.csv')\n",
    "df.head()"
   ]
  },
  {
   "cell_type": "markdown",
   "id": "3afbee28-6676-4d5c-b2f7-05cd8ce9d3fa",
   "metadata": {},
   "source": [
    "### Understanding the data"
   ]
  },
  {
   "cell_type": "code",
   "execution_count": 3,
   "id": "13b4cc39-5b7d-4768-8144-598cd64db419",
   "metadata": {
    "tags": []
   },
   "outputs": [
    {
     "name": "stdout",
     "output_type": "stream",
     "text": [
      "<class 'pandas.core.frame.DataFrame'>\n",
      "RangeIndex: 891 entries, 0 to 890\n",
      "Data columns (total 12 columns):\n",
      " #   Column       Non-Null Count  Dtype  \n",
      "---  ------       --------------  -----  \n",
      " 0   PassengerId  891 non-null    int64  \n",
      " 1   Survived     891 non-null    int64  \n",
      " 2   Pclass       891 non-null    int64  \n",
      " 3   Name         891 non-null    object \n",
      " 4   Sex          891 non-null    object \n",
      " 5   Age          714 non-null    float64\n",
      " 6   SibSp        891 non-null    int64  \n",
      " 7   Parch        891 non-null    int64  \n",
      " 8   Ticket       891 non-null    object \n",
      " 9   Fare         891 non-null    float64\n",
      " 10  Cabin        204 non-null    object \n",
      " 11  Embarked     889 non-null    object \n",
      "dtypes: float64(2), int64(5), object(5)\n",
      "memory usage: 83.7+ KB\n"
     ]
    }
   ],
   "source": [
    "df.describe(include = 'all')\n",
    "df.shape\n",
    "df.info()"
   ]
  },
  {
   "cell_type": "markdown",
   "id": "36945d7d-2a6e-434b-9496-d4898f5e9832",
   "metadata": {
    "tags": []
   },
   "source": [
    "## **Cleaning**"
   ]
  },
  {
   "cell_type": "markdown",
   "id": "b94c9cc4-b561-428a-89ac-425bf295f18d",
   "metadata": {
    "tags": []
   },
   "source": [
    "### **Missing Values/Duplicates/Outliers**"
   ]
  },
  {
   "cell_type": "code",
   "execution_count": 4,
   "id": "9866d8c7-5ef4-405f-8097-7d40b0c5c76a",
   "metadata": {
    "tags": []
   },
   "outputs": [
    {
     "data": {
      "text/plain": [
       "PassengerId      0\n",
       "Survived         0\n",
       "Pclass           0\n",
       "Name             0\n",
       "Sex              0\n",
       "Age            177\n",
       "SibSp            0\n",
       "Parch            0\n",
       "Ticket           0\n",
       "Fare             0\n",
       "Cabin          687\n",
       "Embarked         2\n",
       "dtype: int64"
      ]
     },
     "execution_count": 4,
     "metadata": {},
     "output_type": "execute_result"
    }
   ],
   "source": [
    "df.duplicated().sum()\n",
    "df.isnull().sum()\n",
    "#df = df.dropna(axis=0)"
   ]
  },
  {
   "cell_type": "code",
   "execution_count": 5,
   "id": "fa1994e9-01bc-4956-9173-624fc2478bcc",
   "metadata": {
    "tags": []
   },
   "outputs": [
    {
     "data": {
      "text/plain": [
       "<Axes: xlabel='Fare'>"
      ]
     },
     "execution_count": 5,
     "metadata": {},
     "output_type": "execute_result"
    },
    {
     "data": {
      "image/png": "[encoded data removed]",
      "text/plain": [
       "<Figure size 1200x1000 with 4 Axes>"
      ]
     },
     "metadata": {},
     "output_type": "display_data"
    }
   ],
   "source": [
    "fig,axes = plt.subplots(2,2,figsize=(12,10))\n",
    "sns.boxplot(ax=axes[0,0],x=df['Age'])\n",
    "sns.boxplot(ax=axes[0,1],x=df['SibSp'])\n",
    "sns.boxplot(ax=axes[1,0],x=df['Parch'])\n",
    "sns.boxplot(ax=axes[1,1],x=df['Fare'])"
   ]
  },
  {
   "cell_type": "markdown",
   "id": "9c2a68a0-070c-4ac5-943f-d4c3c7737e88",
   "metadata": {
    "tags": []
   },
   "source": [
    "### **EDA Conclusion**"
   ]
  },
  {
   "cell_type": "markdown",
   "id": "a0d3d156-446f-4471-b663-3c82efdc24a6",
   "metadata": {
    "tags": []
   },
   "source": [
    "Its best to use tree based mode as there are missing values for class and age."
   ]
  },
  {
   "cell_type": "code",
   "execution_count": null,
   "id": "44771952-3227-42c0-9a7a-e48a62657899",
   "metadata": {},
   "outputs": [],
   "source": []
  },
  {
   "cell_type": "markdown",
   "id": "6a51cb35-4e06-469a-af2a-d1172304054b",
   "metadata": {
    "tags": []
   },
   "source": [
    "## **Random Forest Modelling**"
   ]
  },
  {
   "cell_type": "code",
   "execution_count": 6,
   "id": "9abd9bef-ccdc-424f-838d-4089969c97a4",
   "metadata": {
    "tags": []
   },
   "outputs": [
    {
     "data": {
      "text/html": [
       "<div>\n",
       "<style scoped>\n",
       "    .dataframe tbody tr th:only-of-type {\n",
       "        vertical-align: middle;\n",
       "    }\n",
       "\n",
       "    .dataframe tbody tr th {\n",
       "        vertical-align: top;\n",
       "    }\n",
       "\n",
       "    .dataframe thead th {\n",
       "        text-align: right;\n",
       "    }\n",
       "</style>\n",
       "<table border=\"1\" class=\"dataframe\">\n",
       "  <thead>\n",
       "    <tr style=\"text-align: right;\">\n",
       "      <th></th>\n",
       "      <th>PassengerId</th>\n",
       "      <th>Survived</th>\n",
       "      <th>Pclass</th>\n",
       "      <th>Name</th>\n",
       "      <th>Sex</th>\n",
       "      <th>Age</th>\n",
       "      <th>SibSp</th>\n",
       "      <th>Parch</th>\n",
       "      <th>Ticket</th>\n",
       "      <th>Fare</th>\n",
       "      <th>Cabin</th>\n",
       "      <th>Embarked</th>\n",
       "    </tr>\n",
       "  </thead>\n",
       "  <tbody>\n",
       "    <tr>\n",
       "      <th>0</th>\n",
       "      <td>1</td>\n",
       "      <td>0</td>\n",
       "      <td>3</td>\n",
       "      <td>Braund, Mr. Owen Harris</td>\n",
       "      <td>male</td>\n",
       "      <td>22.0</td>\n",
       "      <td>1</td>\n",
       "      <td>0</td>\n",
       "      <td>A/5 21171</td>\n",
       "      <td>7.2500</td>\n",
       "      <td>NaN</td>\n",
       "      <td>S</td>\n",
       "    </tr>\n",
       "    <tr>\n",
       "      <th>1</th>\n",
       "      <td>2</td>\n",
       "      <td>1</td>\n",
       "      <td>1</td>\n",
       "      <td>Cumings, Mrs. John Bradley (Florence Briggs Th...</td>\n",
       "      <td>female</td>\n",
       "      <td>38.0</td>\n",
       "      <td>1</td>\n",
       "      <td>0</td>\n",
       "      <td>PC 17599</td>\n",
       "      <td>71.2833</td>\n",
       "      <td>C85</td>\n",
       "      <td>C</td>\n",
       "    </tr>\n",
       "    <tr>\n",
       "      <th>2</th>\n",
       "      <td>3</td>\n",
       "      <td>1</td>\n",
       "      <td>3</td>\n",
       "      <td>Heikkinen, Miss. Laina</td>\n",
       "      <td>female</td>\n",
       "      <td>26.0</td>\n",
       "      <td>0</td>\n",
       "      <td>0</td>\n",
       "      <td>STON/O2. 3101282</td>\n",
       "      <td>7.9250</td>\n",
       "      <td>NaN</td>\n",
       "      <td>S</td>\n",
       "    </tr>\n",
       "    <tr>\n",
       "      <th>3</th>\n",
       "      <td>4</td>\n",
       "      <td>1</td>\n",
       "      <td>1</td>\n",
       "      <td>Futrelle, Mrs. Jacques Heath (Lily May Peel)</td>\n",
       "      <td>female</td>\n",
       "      <td>35.0</td>\n",
       "      <td>1</td>\n",
       "      <td>0</td>\n",
       "      <td>113803</td>\n",
       "      <td>53.1000</td>\n",
       "      <td>C123</td>\n",
       "      <td>S</td>\n",
       "    </tr>\n",
       "    <tr>\n",
       "      <th>4</th>\n",
       "      <td>5</td>\n",
       "      <td>0</td>\n",
       "      <td>3</td>\n",
       "      <td>Allen, Mr. William Henry</td>\n",
       "      <td>male</td>\n",
       "      <td>35.0</td>\n",
       "      <td>0</td>\n",
       "      <td>0</td>\n",
       "      <td>373450</td>\n",
       "      <td>8.0500</td>\n",
       "      <td>NaN</td>\n",
       "      <td>S</td>\n",
       "    </tr>\n",
       "  </tbody>\n",
       "</table>\n",
       "</div>"
      ],
      "text/plain": [
       "   PassengerId  Survived  Pclass  \\\n",
       "0            1         0       3   \n",
       "1            2         1       1   \n",
       "2            3         1       3   \n",
       "3            4         1       1   \n",
       "4            5         0       3   \n",
       "\n",
       "                                                Name     Sex   Age  SibSp  \\\n",
       "0                            Braund, Mr. Owen Harris    male  22.0      1   \n",
       "1  Cumings, Mrs. John Bradley (Florence Briggs Th...  female  38.0      1   \n",
       "2                             Heikkinen, Miss. Laina  female  26.0      0   \n",
       "3       Futrelle, Mrs. Jacques Heath (Lily May Peel)  female  35.0      1   \n",
       "4                           Allen, Mr. William Henry    male  35.0      0   \n",
       "\n",
       "   Parch            Ticket     Fare Cabin Embarked  \n",
       "0      0         A/5 21171   7.2500   NaN        S  \n",
       "1      0          PC 17599  71.2833   C85        C  \n",
       "2      0  STON/O2. 3101282   7.9250   NaN        S  \n",
       "3      0            113803  53.1000  C123        S  \n",
       "4      0            373450   8.0500   NaN        S  "
      ]
     },
     "execution_count": 6,
     "metadata": {},
     "output_type": "execute_result"
    }
   ],
   "source": [
    "df_RF_1 = pd.read_csv('train.csv')\n",
    "df_RF_1.head()"
   ]
  },
  {
   "cell_type": "markdown",
   "id": "36c1795a-7193-4e67-b9ba-e9799ca4ba33",
   "metadata": {
    "toc-hr-collapsed": true
   },
   "source": [
    "### **Feature Engineering**"
   ]
  },
  {
   "cell_type": "markdown",
   "id": "56f4616b-9f22-45bd-adc1-02f093c4078c",
   "metadata": {},
   "source": [
    "#### **Feature Extraction**"
   ]
  },
  {
   "cell_type": "code",
   "execution_count": 7,
   "id": "2c83e2ec-246a-4888-94fa-565526949c9d",
   "metadata": {
    "tags": []
   },
   "outputs": [
    {
     "name": "stdout",
     "output_type": "stream",
     "text": [
      "Index(['PassengerId', 'Survived', 'Pclass', 'Name', 'Sex', 'Age', 'SibSp',\n",
      "       'Parch', 'Ticket', 'Fare', 'Cabin', 'Embarked'],\n",
      "      dtype='object')\n"
     ]
    }
   ],
   "source": [
    "df_RF_1.head()\n",
    "print(df_RF_1.columns)\n"
   ]
  },
  {
   "cell_type": "markdown",
   "id": "b1c54e2c-b7fa-4e15-8d74-f3b9aa451747",
   "metadata": {
    "tags": []
   },
   "source": [
    "#### **Feature Transformation**\n"
   ]
  },
  {
   "cell_type": "code",
   "execution_count": 8,
   "id": "e90aead0-e15b-4176-8c78-b9f1b871a0cf",
   "metadata": {
    "tags": []
   },
   "outputs": [
    {
     "name": "stdout",
     "output_type": "stream",
     "text": [
      "Index(['PassengerId', 'Survived', 'Pclass', 'Name', 'Sex', 'Age', 'SibSp',\n",
      "       'Parch', 'Ticket', 'Fare', 'Cabin', 'Embarked'],\n",
      "      dtype='object')\n"
     ]
    }
   ],
   "source": [
    "df_RF_1['Pclass']= df_RF_1['Pclass'].astype('str')\n",
    "print(df_RF_1.columns)\n",
    "#df_RF_1 = df_RF_1.drop([\"PassengerId\",\"Name\",\"Ticket\"],axis=1)\n",
    "#sns.pairplot(df_RF_1)\n",
    "df_RF_new=pd.get_dummies(df_RF_1,drop_first=True)\n"
   ]
  },
  {
   "cell_type": "markdown",
   "id": "720d477e-622e-4ffd-8b32-12deb9e44469",
   "metadata": {
    "tags": []
   },
   "source": [
    "#### **Feature Selection**"
   ]
  },
  {
   "cell_type": "code",
   "execution_count": 9,
   "id": "4d491794-2138-429e-a990-345b1f4baf3b",
   "metadata": {
    "tags": []
   },
   "outputs": [
    {
     "name": "stdout",
     "output_type": "stream",
     "text": [
      "Index(['PassengerId', 'Survived', 'Pclass', 'Name', 'Sex', 'Age', 'SibSp',\n",
      "       'Parch', 'Ticket', 'Fare', 'Cabin', 'Embarked'],\n",
      "      dtype='object')\n",
      "Index(['Survived', 'Age', 'SibSp', 'Parch', 'Fare', 'Pclass_2', 'Pclass_3',\n",
      "       'Sex_male'],\n",
      "      dtype='object')\n"
     ]
    },
    {
     "data": {
      "text/html": [
       "<div>\n",
       "<style scoped>\n",
       "    .dataframe tbody tr th:only-of-type {\n",
       "        vertical-align: middle;\n",
       "    }\n",
       "\n",
       "    .dataframe tbody tr th {\n",
       "        vertical-align: top;\n",
       "    }\n",
       "\n",
       "    .dataframe thead th {\n",
       "        text-align: right;\n",
       "    }\n",
       "</style>\n",
       "<table border=\"1\" class=\"dataframe\">\n",
       "  <thead>\n",
       "    <tr style=\"text-align: right;\">\n",
       "      <th></th>\n",
       "      <th>Survived</th>\n",
       "      <th>Age</th>\n",
       "      <th>SibSp</th>\n",
       "      <th>Parch</th>\n",
       "      <th>Fare</th>\n",
       "      <th>Pclass_2</th>\n",
       "      <th>Pclass_3</th>\n",
       "      <th>Sex_male</th>\n",
       "    </tr>\n",
       "  </thead>\n",
       "  <tbody>\n",
       "    <tr>\n",
       "      <th>0</th>\n",
       "      <td>0</td>\n",
       "      <td>22.0</td>\n",
       "      <td>1</td>\n",
       "      <td>0</td>\n",
       "      <td>7.2500</td>\n",
       "      <td>0</td>\n",
       "      <td>1</td>\n",
       "      <td>1</td>\n",
       "    </tr>\n",
       "    <tr>\n",
       "      <th>1</th>\n",
       "      <td>1</td>\n",
       "      <td>38.0</td>\n",
       "      <td>1</td>\n",
       "      <td>0</td>\n",
       "      <td>71.2833</td>\n",
       "      <td>0</td>\n",
       "      <td>0</td>\n",
       "      <td>0</td>\n",
       "    </tr>\n",
       "    <tr>\n",
       "      <th>2</th>\n",
       "      <td>1</td>\n",
       "      <td>26.0</td>\n",
       "      <td>0</td>\n",
       "      <td>0</td>\n",
       "      <td>7.9250</td>\n",
       "      <td>0</td>\n",
       "      <td>1</td>\n",
       "      <td>0</td>\n",
       "    </tr>\n",
       "    <tr>\n",
       "      <th>3</th>\n",
       "      <td>1</td>\n",
       "      <td>35.0</td>\n",
       "      <td>1</td>\n",
       "      <td>0</td>\n",
       "      <td>53.1000</td>\n",
       "      <td>0</td>\n",
       "      <td>0</td>\n",
       "      <td>0</td>\n",
       "    </tr>\n",
       "    <tr>\n",
       "      <th>4</th>\n",
       "      <td>0</td>\n",
       "      <td>35.0</td>\n",
       "      <td>0</td>\n",
       "      <td>0</td>\n",
       "      <td>8.0500</td>\n",
       "      <td>0</td>\n",
       "      <td>1</td>\n",
       "      <td>1</td>\n",
       "    </tr>\n",
       "  </tbody>\n",
       "</table>\n",
       "</div>"
      ],
      "text/plain": [
       "   Survived   Age  SibSp  Parch     Fare  Pclass_2  Pclass_3  Sex_male\n",
       "0         0  22.0      1      0   7.2500         0         1         1\n",
       "1         1  38.0      1      0  71.2833         0         0         0\n",
       "2         1  26.0      0      0   7.9250         0         1         0\n",
       "3         1  35.0      1      0  53.1000         0         0         0\n",
       "4         0  35.0      0      0   8.0500         0         1         1"
      ]
     },
     "execution_count": 9,
     "metadata": {},
     "output_type": "execute_result"
    }
   ],
   "source": [
    "print(df_RF_1.columns)\n",
    "df_RF_1 = df_RF_1.drop([\"PassengerId\",\"Name\",\"Ticket\",\"Cabin\",\"Embarked\"],axis=1)\n",
    "#df_RF_1 = df_RF_1.dropna(axis=0)\n",
    "df_RF_new=pd.get_dummies(df_RF_1,drop_first=True)\n",
    "\n",
    "print(df_RF_new.columns)\n",
    "df_RF_new.head()"
   ]
  },
  {
   "cell_type": "markdown",
   "id": "0b202bef-d0e1-47b2-9bd8-0e66bd3e1b87",
   "metadata": {},
   "source": [
    "#### **Select Evaluation Metric**"
   ]
  },
  {
   "cell_type": "markdown",
   "id": "439b8710-b539-4494-9686-540c8d12f423",
   "metadata": {},
   "source": [
    "Model evaluation metric selection steps:\n",
    "1. Find the class imbalance, \n",
    "    - No Class imbalance \n",
    "        - Use Accuracy\n",
    "    - Class imbalance exists\n",
    "        - **Ask yourself**\n",
    "            - What is your objective?, \n",
    "            - what is the cost of FP or FN?\n",
    "        - **Choose the metric**\n",
    "            - You want to know how many positives are correct?\n",
    "                - use Precision\n",
    "            - You want to know how many actual positives were identified correctly?\n",
    "                - Use Recall (e.g spam detection)\n",
    "            - Both Precison and Recall are important \n",
    "                - Use F1 score\n",
    "            "
   ]
  },
  {
   "cell_type": "code",
   "execution_count": 10,
   "id": "a5de8ae0-0651-4f8c-8d97-9af1497dd0e0",
   "metadata": {
    "tags": []
   },
   "outputs": [
    {
     "name": "stdout",
     "output_type": "stream",
     "text": [
      "0- Not Survived ,1 -Survived : Count\n",
      "0    549\n",
      "1    342\n",
      "Name: Survived, dtype: int64\n",
      "0- Not Survived ,1 -Survived : Percentage\n",
      "0    61.616162\n",
      "1    38.383838\n",
      "Name: Survived, dtype: float64\n"
     ]
    }
   ],
   "source": [
    "print(\"0- Not Survived ,1 -Survived : Count\")\n",
    "print(df_RF_new['Survived'].value_counts())\n",
    "print(\"0- Not Survived ,1 -Survived : Percentage\")\n",
    "print(df_RF_new['Survived'].value_counts(normalize=True)*100)"
   ]
  },
  {
   "cell_type": "markdown",
   "id": "5e36085b-8bbf-4497-abe5-35a19fe0a866",
   "metadata": {},
   "source": [
    "**Conclusion: Since there is a class imbalance, and the objective is to predict both survival and non survival, we can choose F1 Score**"
   ]
  },
  {
   "cell_type": "markdown",
   "id": "3a515529-83e3-472d-922e-e9fa88a24815",
   "metadata": {
    "tags": []
   },
   "source": [
    "### **Model Assumption : none**"
   ]
  },
  {
   "cell_type": "markdown",
   "id": "6162e9d2-7c09-45e0-b8f3-73c519e4a62e",
   "metadata": {
    "tags": [],
    "toc-hr-collapsed": true
   },
   "source": [
    "### **Split the data**"
   ]
  },
  {
   "cell_type": "code",
   "execution_count": 11,
   "id": "c2b3195b-3d9a-4ce1-8d81-b8028df5d9bc",
   "metadata": {
    "tags": []
   },
   "outputs": [],
   "source": [
    "from sklearn.model_selection import train_test_split\n",
    "\n",
    "X= df_RF_new.drop(['Survived'],axis=1)\n",
    "y=df_RF_new['Survived']\n",
    "X_train,X_test,y_train,y_test = train_test_split(X,y,test_size=0.25,stratify=y,random_state=42)"
   ]
  },
  {
   "cell_type": "markdown",
   "id": "885765bc-b789-4f09-9cab-10e5a76e524f",
   "metadata": {
    "tags": []
   },
   "source": [
    "### **GridSearch**"
   ]
  },
  {
   "cell_type": "code",
   "execution_count": 12,
   "id": "a22f7637-0e15-4113-819a-9b8527b4bdf0",
   "metadata": {
    "tags": []
   },
   "outputs": [],
   "source": [
    "import pickle \n",
    "from sklearn.model_selection import GridSearchCV\n",
    "from xgboost import XGBClassifier\n",
    "xgb_cv=XGBClassifier(objective ='binary:logistic',random_state=0)\n",
    "\n",
    "# Define a path to the folder where you want to save the model\n",
    "path = 'pickle_files/'\n",
    "def write_pickle(path, model_object, save_name:str):\n",
    "    '''\n",
    "    save_name is a string.\n",
    "    '''\n",
    "    with open(path + save_name + '.pickle', 'wb') as to_write:\n",
    "        pickle.dump(model_object, to_write)\n",
    "        \n",
    "\n",
    "def read_pickle(path, saved_model_name:str):\n",
    "    '''\n",
    "    saved_model_name is a string.\n",
    "    '''\n",
    "    with open(path + saved_model_name + '.pickle', 'rb') as to_read:\n",
    "        model = pickle.load(to_read)\n",
    "\n",
    "        return model\n",
    "    \n",
    "write_pickle(path,xgb_cv,'titanic_xgb_model')"
   ]
  },
  {
   "cell_type": "code",
   "execution_count": 13,
   "id": "a49f2674-eaa1-455f-8501-8d5378f5f141",
   "metadata": {
    "tags": []
   },
   "outputs": [],
   "source": [
    "\n",
    "\n",
    "\n",
    "cv_params = { 'max_depth': [3,4,7,None],        #The maximum depth the tree will construct to before stopping\n",
    "              'max_features': [3,5,8],        #The maximum of features selected for each base learner \n",
    "           #  'max_samples': [0.8],\n",
    "         #    'min_samples_leaf': [1,2,3,8,20],    #The minimum number of samples that must be in each child node for the split to complete. \n",
    "         #    'min_samples_split': [6,8,10,20], #The minimum number of samples that a node must have to split into more nodes.\n",
    "             'n_estimators': [10,50,100,200],        #The maximum number of base learners your ensemble will grow\n",
    "             'learning_rate':[0.1,0.2,0.3],\n",
    "             'min_child_weight':[0.3,0.5,0,0.6,0.8,1]\n",
    "            }\n",
    "\n",
    "# 3. Define a dictionary of scoring metrics to capture\n",
    "scoring = {'accuracy', 'precision', 'recall', 'f1'}\n",
    "\n",
    "xgb_cv=read_pickle(path,\"titanic_xgb_model\")\n",
    "# 4. Instantiate the GridSearchCV object\n",
    "xgb_cv= GridSearchCV(xgb_cv, cv_params, scoring=scoring, cv=5, refit='accuracy')    \n"
   ]
  },
  {
   "cell_type": "markdown",
   "id": "8e39905a-e5aa-4779-976f-f51fe7c8977a",
   "metadata": {
    "tags": []
   },
   "source": [
    "### **Fit the model**"
   ]
  },
  {
   "cell_type": "code",
   "execution_count": null,
   "id": "04f02285-8ff9-4e43-9d3f-22091fe00f84",
   "metadata": {
    "tags": []
   },
   "outputs": [],
   "source": [
    "%%time\n",
    "import warnings\n",
    "warnings.filterwarnings('ignore')\n",
    "#rf_cv=read_pickle(path,\"titanic_rf_model\")\n",
    "xgb_cv.fit(X_train, y_train)\n"
   ]
  },
  {
   "cell_type": "code",
   "execution_count": null,
   "id": "3465dcd0-0e7a-4742-896a-a1a0a4522bb9",
   "metadata": {},
   "outputs": [],
   "source": [
    "write_pickle(path,xgb_cv,'titanic_xgb_model')\n",
    "#xgb_cv=read_pickle(path,\"titanic_xgb_model\")\n"
   ]
  },
  {
   "cell_type": "code",
   "execution_count": null,
   "id": "3adec4dc-c009-4bf6-b05f-7c9b43a816f6",
   "metadata": {
    "tags": []
   },
   "outputs": [],
   "source": [
    "print('Best Estimator',xgb_cv.best_estimator_)\n",
    "print('Best Parameter',xgb_cv.best_params_)"
   ]
  },
  {
   "cell_type": "code",
   "execution_count": null,
   "id": "7538eb8f-7885-4e5f-bf4e-2cae622c7288",
   "metadata": {
    "tags": []
   },
   "outputs": [],
   "source": [
    "# Get scores on test data\n",
    "from sklearn.metrics import recall_score, precision_score, f1_score, accuracy_score\n",
    "\n",
    "xgb_preds = xgb_cv.best_estimator_.predict(X_test)\n",
    "print(f\"f1 = {f1_score(y_test,xgb_preds)}\")\n",
    "print(f\"accuracy = {accuracy_score(y_test,xgb_preds)}\")\n",
    "print(f\"precision = {precision_score(y_test,xgb_preds)}\")\n",
    "print(f\"recall = {recall_score(y_test,xgb_preds)}\")\n"
   ]
  },
  {
   "cell_type": "code",
   "execution_count": null,
   "id": "bd4c7598-f552-4bb6-a94a-51d75d581e10",
   "metadata": {
    "tags": []
   },
   "outputs": [],
   "source": [
    "from sklearn.metrics import confusion_matrix, ConfusionMatrixDisplay"
   ]
  },
  {
   "cell_type": "code",
   "execution_count": null,
   "id": "e42140ac-fd62-43d8-bb6e-1b36557f6066",
   "metadata": {
    "tags": []
   },
   "outputs": [],
   "source": [
    "cm=confusion_matrix(y_test,xgb_preds)\n",
    "disp=ConfusionMatrixDisplay(confusion_matrix=cm,display_labels=xgb_cv.classes_)\n",
    "disp.plot(values_format='') # `values_format=''` suppresses scientific notation\n",
    "plt.show()\n",
    "X_train.shape"
   ]
  },
  {
   "cell_type": "code",
   "execution_count": null,
   "id": "7be3ef95-82ca-4bb7-a260-bf0c37b36ea1",
   "metadata": {
    "tags": []
   },
   "outputs": [],
   "source": [
    "from xgboost import plot_importance\n",
    "plot_importance(xgb_cv.best_estimator_)\n"
   ]
  },
  {
   "cell_type": "code",
   "execution_count": null,
   "id": "755aeff2-8e7e-449e-8333-a460070b2824",
   "metadata": {
    "tags": []
   },
   "outputs": [],
   "source": [
    "df_xcb_Test = pd.read_csv('test.csv')\n",
    "TestResult_CsvFile = \"Test_result.csv\"\n",
    "df_xcb_Test.head()\n",
    "TestResultDF=pd.DataFrame()\n",
    "df_xcb_Test_1 = df_xcb_Test.drop([\"PassengerId\",\"Name\",\"Ticket\",\"Cabin\",\"Embarked\"],axis=1)\n",
    "df_xcb_Test_1['Pclass']=df_xcb_Test_1['Pclass'].astype('str')\n",
    "X_test_data=pd.get_dummies(df_xcb_Test_1,drop_first=True)\n",
    "\n",
    "TestResultDF['PassengerId']= df_xcb_Test['PassengerId']\n",
    "\n",
    "TestResultDF['Survived'] = xgb_cv.best_estimator_.predict(X_test_data)\n",
    "TestResultDF.to_csv(TestResult_CsvFile,index=False)\n",
    "TestResultDF[\"Survived\"].value_counts()\n",
    "\n",
    "#print(f\"f1 = {f1_score(y_test_data,xgb_testdata_preds)}\")\n",
    "#print(f\"accuracy = {accuracy_score(y_test_data,xgb_testdata_preds)}\")\n",
    "#print(f\"precision = {precision_score(y_test_data,xgb_testdata_preds)}\")\n",
    "#print(f\"recall = {recall_score(y_test_data,xgb_testdata_preds)}\")\n"
   ]
  },
  {
   "cell_type": "code",
   "execution_count": null,
   "id": "fb7261d8-f0a0-4c2c-ae02-fdebff02df67",
   "metadata": {},
   "outputs": [],
   "source": []
  }
 ],
 "metadata": {
  "kernelspec": {
   "display_name": "Python 3 (ipykernel)",
   "language": "python",
   "name": "python3"
  },
  "language_info": {
   "codemirror_mode": {
    "name": "ipython",
    "version": 3
   },
   "file_extension": ".py",
   "mimetype": "text/x-python",
   "name": "python",
   "nbconvert_exporter": "python",
   "pygments_lexer": "ipython3",
   "version": "3.11.3"
  }
 },
 "nbformat": 4,
 "nbformat_minor": 5
}
