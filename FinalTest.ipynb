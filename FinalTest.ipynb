{
 "cells": [
  {
   "cell_type": "code",
   "execution_count": 1,
   "metadata": {},
   "outputs": [],
   "source": [
    "def PerformFinalTest():\n",
    "    %run MyLibrary.ipynb\n",
    "    df_final_Test = pd.read_csv('data/test.csv')\n",
    "    TestResult_CsvFile = \"data/submission.csv\"\n",
    "    df_final_Test.head()\n",
    "    TestResultDF=pd.DataFrame()\n",
    "    df_final_Test_1 = df_final_Test.drop([\"PassengerId\",\"Name\",\"Ticket\",\"Cabin\",\"Embarked\",'SibSp'],axis=1)\n",
    "    df_final_Test_1['Pclass']=df_final_Test_1['Pclass'].astype('str')\n",
    "    X_test_data=pd.get_dummies(df_final_Test_1,drop_first=True)\n",
    "    #X_test_data=X_test_data.drop(['Embarked_S'],axis=1)\n",
    "    print(X_test_data.isna().sum())\n",
    "    X_test_data['Fare']=Impute_missing_values(X_test_data['Fare'],(X_test_data['Fare'].mean()))\n",
    "    X_test_data['Age']=Impute_missing_values(X_test_data['Age'],(X_test_data['Age'].mean()))\n",
    "    \n",
    "    TestResultDF['PassengerId']= df_final_Test['PassengerId']\n",
    "\n",
    "    X_test_data.info()\n",
    "    TestResultDF['Survived'] = stacking_model.predict(X_test_data)\n",
    "    TestResultDF.to_csv(TestResult_CsvFile,index=False)\n",
    "    TestResultDF[\"Survived\"].value_counts()"
   ]
  },
  {
   "cell_type": "markdown",
   "metadata": {},
   "source": []
  }
 ],
 "metadata": {
  "kernelspec": {
   "display_name": "Python 3",
   "language": "python",
   "name": "python3"
  },
  "language_info": {
   "codemirror_mode": {
    "name": "ipython",
    "version": 3
   },
   "file_extension": ".py",
   "mimetype": "text/x-python",
   "name": "python",
   "nbconvert_exporter": "python",
   "pygments_lexer": "ipython3",
   "version": "3.10.9"
  },
  "orig_nbformat": 4
 },
 "nbformat": 4,
 "nbformat_minor": 2
}
