{
 "cells": [
  {
   "cell_type": "markdown",
   "metadata": {},
   "source": [
    "## Stacking (Hybrid Ensemble)"
   ]
  },
  {
   "cell_type": "code",
   "execution_count": 1,
   "metadata": {},
   "outputs": [],
   "source": [
    "def Get_Stacking_Classifier() :\n",
    "    from sklearn.ensemble import StackingClassifier\n",
    "    from sklearn.ensemble import RandomForestClassifier\n",
    "    from xgboost import XGBClassifier\n",
    "    from sklearn.linear_model import LogisticRegression\n",
    "\n",
    "    # Define base models\n",
    "    base_models = [\n",
    "        ('LogReg_clf',LogisticRegression() ),\n",
    "        ('nb',naive_bayes.GaussianNB() ),\n",
    "        ('dt_cv', DecisionTreeClassifier(max_depth=2, max_features=3, min_samples_leaf=5,min_samples_split=0.3, random_state=42)),\n",
    "        ('rf_cv', RandomForestClassifier(max_depth=3, max_features=2, min_samples_leaf=10,min_samples_split=0.4,n_estimators=100, random_state=42)),\n",
    "        ('xcb_cv', XGBClassifier(learning_rate=0.3,max_depth=3, max_features=2, min_child_weight=0.8,n_estimators=200, random_state=42))\n",
    "    ]\n",
    "\n",
    "    # Create a meta-model (Logistic Regression)\n",
    "    meta_model = LogisticRegression()\n",
    "\n",
    "    stacking_model = StackingClassifier(estimators=base_models, final_estimator=meta_model)\n",
    "\n",
    "    return stacking_model"
   ]
  },
  {
   "cell_type": "code",
   "execution_count": null,
   "metadata": {},
   "outputs": [],
   "source": []
  }
 ],
 "metadata": {
  "kernelspec": {
   "display_name": "Python 3",
   "language": "python",
   "name": "python3"
  },
  "language_info": {
   "codemirror_mode": {
    "name": "ipython",
    "version": 3
   },
   "file_extension": ".py",
   "mimetype": "text/x-python",
   "name": "python",
   "nbconvert_exporter": "python",
   "pygments_lexer": "ipython3",
   "version": "3.10.9"
  },
  "orig_nbformat": 4
 },
 "nbformat": 4,
 "nbformat_minor": 2
}
