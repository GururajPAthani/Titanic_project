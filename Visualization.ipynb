{
 "cells": [
  {
   "cell_type": "markdown",
   "metadata": {},
   "source": [
    "## Visualization:"
   ]
  },
  {
   "cell_type": "code",
   "execution_count": 1,
   "metadata": {},
   "outputs": [],
   "source": [
    "import pandas as pd\n",
    "import numpy as np\n",
    "import seaborn as sns\n",
    "import matplotlib.pyplot as plt\n",
    "def PlotConfusionMatrix(cm0,cm1,cm2,cm3,cm4,model_names):\n",
    "    fig, axes = plt.subplots(1, 5, figsize=(12, 3))  # Adjust figsize as needed\n",
    "    sns.heatmap(cm0, annot=True, fmt=\"d\", cmap=\"Blues\", ax=axes[0])\n",
    "    axes[0].set_title(model_names[0])\n",
    "    axes[0].set_xlabel('Predicted')\n",
    "    axes[0].set_ylabel('Actual')\n",
    "\n",
    "    sns.heatmap(cm1, annot=True, fmt=\"d\", cmap=\"Blues\", ax=axes[1])\n",
    "    axes[1].set_title(model_names[1])\n",
    "    axes[1].set_xlabel('Predicted')\n",
    "    axes[1].set_ylabel('Actual')\n",
    "\n",
    "    sns.heatmap(cm2, annot=True, fmt=\"d\", cmap=\"Blues\", ax=axes[2])\n",
    "    axes[2].set_title(model_names[2])\n",
    "    axes[2].set_xlabel('Predicted')\n",
    "    axes[2].set_ylabel('Actual')\n",
    "\n",
    "    sns.heatmap(cm3, annot=True, fmt=\"d\", cmap=\"Blues\", ax=axes[3])\n",
    "    axes[3].set_title(model_names[3])\n",
    "    axes[3].set_xlabel('Predicted')\n",
    "    axes[3].set_ylabel('Actual')\n",
    "\n",
    "    sns.heatmap(cm4, annot=True, fmt=\"d\", cmap=\"Blues\", ax=axes[4])\n",
    "    axes[4].set_title(model_names[4])\n",
    "    axes[4].set_xlabel('Predicted')\n",
    "    axes[4].set_ylabel('Actual')"
   ]
  },
  {
   "cell_type": "code",
   "execution_count": 2,
   "metadata": {},
   "outputs": [],
   "source": [
    "# Create boxplot showing `Variable1` distributions for `Variable2`, compared to Target = 0 and Target =1\n",
    "\n",
    "def BoxPlotDistributionTwoVariablesAcrossTarget(df,Variable1,Variable2,target,title):\n",
    "    fig, axes = plt.subplots(1, figsize=(12, 3))  # Adjust figsize as needed\n",
    "    sns.boxplot(data=df, x=Variable1, y=Variable2, hue=target, orient=\"h\", ax=axes)\n",
    "    axes.invert_yaxis()\n",
    "    axes.set_title(title, fontsize='14')\n"
   ]
  },
  {
   "cell_type": "code",
   "execution_count": null,
   "metadata": {},
   "outputs": [],
   "source": []
  }
 ],
 "metadata": {
  "kernelspec": {
   "display_name": "Python 3",
   "language": "python",
   "name": "python3"
  },
  "language_info": {
   "codemirror_mode": {
    "name": "ipython",
    "version": 3
   },
   "file_extension": ".py",
   "mimetype": "text/x-python",
   "name": "python",
   "nbconvert_exporter": "python",
   "pygments_lexer": "ipython3",
   "version": "3.10.9"
  },
  "orig_nbformat": 4
 },
 "nbformat": 4,
 "nbformat_minor": 2
}
